{
 "cells": [
  {
   "cell_type": "code",
   "execution_count": 70,
   "metadata": {},
   "outputs": [
    {
     "data": {
      "text/plain": [
       "ObjectApiResponse({'acknowledged': True})"
      ]
     },
     "execution_count": 70,
     "metadata": {},
     "output_type": "execute_result"
    }
   ],
   "source": [
    "# client.indices.delete(index='care_index')"
   ]
  },
  {
   "cell_type": "code",
   "execution_count": 1,
   "metadata": {},
   "outputs": [
    {
     "name": "stdout",
     "output_type": "stream",
     "text": [
      "Note: you may need to restart the kernel to use updated packages.\n"
     ]
    }
   ],
   "source": [
    "\n",
    "pip install -qU elasticsearch sentence_transformers"
   ]
  },
  {
   "cell_type": "code",
   "execution_count": 53,
   "metadata": {},
   "outputs": [],
   "source": [
    "from elasticsearch import Elasticsearch\n",
    "from sentence_transformers import SentenceTransformer\n",
    "from getpass import getpass\n",
    "\n",
    "model = SentenceTransformer(\"all-MiniLM-L6-v2\")"
   ]
  },
  {
   "cell_type": "code",
   "execution_count": 32,
   "metadata": {},
   "outputs": [],
   "source": [
    "# https://www.elastic.co/search-labs/tutorials/install-elasticsearch/elastic-cloud#finding-your-cloud-id\n",
    "# cloud_id = 88c2be7fa9bf4c79a9df975bd451371f:dXMtY2VudHJhbDEuZ2NwLmNsb3VkLmVzLmlvOjQ0MyQwNWJmMGVmZmY0NGI0NGFjOWI3YTBkNTY3OTRhNDM3MCRkMjUwM2JkNzYxODg0NGM3ODZiNDk5NzFiY2IzMzE3YQ==\n",
    "ELASTIC_CLOUD_ID = getpass(\"Elastic Cloud ID: \")\n",
    "\n",
    "# https://www.elastic.co/search-labs/tutorials/install-elasticsearch/elastic-cloud#creating-an-api-key\n",
    "# api_key = YlNYZ2lJNEJaT0tRdWFXQ01BR186ODU1MVVUck5UeHFVbUVVOGh5Rk53dw==\n",
    "ELASTIC_API_KEY = getpass(\"Elastic Api Key: \")\n",
    "\n",
    "# Create the client instance\n",
    "client = Elasticsearch(\n",
    "    # For local development\n",
    "    # hosts=[\"http://localhost:9200\"]\n",
    "    cloud_id=ELASTIC_CLOUD_ID,\n",
    "    api_key=ELASTIC_API_KEY,\n",
    ")"
   ]
  },
  {
   "cell_type": "code",
   "execution_count": 71,
   "metadata": {},
   "outputs": [
    {
     "name": "stdout",
     "output_type": "stream",
     "text": [
      "{'name': 'instance-0000000000', 'cluster_name': '05bf0efff44b44ac9b7a0d56794a4370', 'cluster_uuid': 'JEdCBHx9Rpu1t5gZAlRTTA', 'version': {'number': '8.12.2', 'build_flavor': 'default', 'build_type': 'docker', 'build_hash': '48a287ab9497e852de30327444b0809e55d46466', 'build_date': '2024-02-19T10:04:32.774273190Z', 'build_snapshot': False, 'lucene_version': '9.9.2', 'minimum_wire_compatibility_version': '7.17.0', 'minimum_index_compatibility_version': '7.0.0'}, 'tagline': 'You Know, for Search'}\n"
     ]
    }
   ],
   "source": [
    "print(client.info())"
   ]
  },
  {
   "cell_type": "code",
   "execution_count": 72,
   "metadata": {},
   "outputs": [
    {
     "data": {
      "text/plain": [
       "ObjectApiResponse({'acknowledged': True, 'shards_acknowledged': True, 'index': 'care_index'})"
      ]
     },
     "execution_count": 72,
     "metadata": {},
     "output_type": "execute_result"
    }
   ],
   "source": [
    "# Define the mapping\n",
    "mappings = {\n",
    "    \"properties\": {\n",
    "        # \"name_vector\": {\n",
    "        #     \"type\": \"dense_vector\",\n",
    "        #     \"dims\": 384,\n",
    "        #     \"index\": \"true\",\n",
    "        #     \"similarity\": \"cosine\",\n",
    "        # },\n",
    "        # \"short_description_vector\": {\n",
    "        #     \"type\": \"dense_vector\",\n",
    "        #     \"dims\": 384,  # Assuming this is the dimensionality of the vector for the other field\n",
    "        #     \"index\": True,\n",
    "        #     \"similarity\": \"cosine\",\n",
    "        # },\n",
    "        \"long_description_vector\": {\n",
    "            \"type\": \"dense_vector\",\n",
    "            \"dims\": 384,  # Assuming you concatenate two vectors of dimension 384\n",
    "            \"index\": True,\n",
    "            \"similarity\": \"cosine\",\n",
    "        },\n",
    "        # \"combined_vector\": {\n",
    "        #     \"type\": \"dense_vector\",\n",
    "        #     \"dims\": 384,  # Assuming you concatenate two vectors of dimension 384\n",
    "        #     \"index\": True,\n",
    "        #     \"similarity\": \"cosine\",\n",
    "        # }\n",
    "    }\n",
    "}\n",
    "\n",
    "# Create the index\n",
    "client.indices.create(index=\"care_index\", mappings=mappings)"
   ]
  },
  {
   "cell_type": "code",
   "execution_count": 73,
   "metadata": {},
   "outputs": [],
   "source": [
    "# import json\n",
    "# from urllib.request import urlopen\n",
    "\n",
    "# url = \"https://raw.githubusercontent.com/elastic/elasticsearch-labs/main/notebooks/search/data.json\"\n",
    "# response = urlopen(url)\n",
    "# books = json.loads(response.read())\n",
    "# books\n",
    "\n",
    "care_data = [\n",
    "    {\n",
    "    'name': 'Wellness / Sick Visit Codes',\n",
    "    'short_description': 'Provides wellness and sick visit codes traditionally.',\n",
    "    'long_description': 'Provides tables of mostly CPT codes related to wellness and sick visits. There are a couple of ICD-10-CM and even a modifier. Each code(s) has a description attached.',\n",
    "    'type': 'Dashboard & Reports',\n",
    "    'source': 'Github',\n",
    "    'therapeutic_area': 'Oncology',\n",
    "    'dataset':'Claims - Optum',\n",
    "    'created_date': '2021-12-18'\n",
    "    },\n",
    "    {\n",
    "    'name': 'Lynparza Ovarian Cancer Market Definition',\n",
    "    'short_description': 'Codes to identify OC patients  and their attributes from claims data.',\n",
    "    'long_description': 'Contains list of diagnosis codes for identifying OC and metastatic patients, CPT Codes for BRCA/HRD Testing.',\n",
    "    'type': 'Tools',\n",
    "    'source': 'Figma',\n",
    "    'therapeutic_area': 'Vaccines',\n",
    "    'dataset':'HCP Data',\n",
    "    'created_date': '2022-01-29'\n",
    "    },\n",
    "    {\n",
    "    'name': 'RCC RWD rulebook',\n",
    "    'short_description': 'Secondary data in RCC',\n",
    "    'long_description': 'Provides needed ICD, CPT, J, NCD code related to RCC in secondary data as well as rules on regimen hierarchy.',\n",
    "    'type': 'Market Definitions',\n",
    "    'source': 'Confluence',\n",
    "    'therapeutic_area': 'Chronic Care',\n",
    "    'dataset':'Claims - IQVIA',\n",
    "    'created_date': '2022-07-02'\n",
    "    },\n",
    "    {\n",
    "    'name': 'cSCC Model',\n",
    "    'short_description': 'Python Package for cSCC Model',\n",
    "    'long_description': 'Provides end users with a financial forecast and reports based on specified inputs.',\n",
    "    'type': 'Tools',\n",
    "    'source': 'Sharepoint',\n",
    "    'therapeutic_area': 'Vaccines',\n",
    "    'dataset':'Account Data',\n",
    "    'created_date': '2022-10-25'\n",
    "    },\n",
    "    {\n",
    "    'name': 'IQVIA RCC Cancer Patient Cohort',\n",
    "    'short_description': 'Get cohort patient for RCC Cancer Primary Tumor.',\n",
    "    'long_description': 'Get cohort patient for RCC Cancer using PTL logic from IQVIA datasource.',\n",
    "    'type': 'ML Models',\n",
    "    'source': 'Figma',\n",
    "    'therapeutic_area': 'PAN TA',\n",
    "    'dataset':'Source Agnostic',\n",
    "    'created_date': '2022-12-22'\n",
    "    }\n",
    "    \n",
    "]\n",
    "\n",
    "# Iterate over each document and create the combined field\n",
    "for document in care_data:\n",
    "    name = document.get(\"name\", \"\")\n",
    "    short_description = document.get(\"short_description\", \"\")\n",
    "    long_description = document.get(\"long_description\", \"\")\n",
    "    \n",
    "    # Combine the values of name, short_description, and long_description into a single string\n",
    "    combined = f\"{name} {short_description} {long_description}\"\n",
    "    \n",
    "    # Add the combined field to the document\n",
    "    document[\"combined\"] = combined\n",
    "\n"
   ]
  },
  {
   "cell_type": "code",
   "execution_count": 74,
   "metadata": {},
   "outputs": [
    {
     "data": {
      "text/plain": [
       "ObjectApiResponse({'errors': False, 'took': 115, 'items': [{'index': {'_index': 'care_index', '_id': 'oJS1iY4B8KzuOcexJFDh', '_version': 1, 'result': 'created', 'forced_refresh': True, '_shards': {'total': 2, 'successful': 2, 'failed': 0}, '_seq_no': 0, '_primary_term': 1, 'status': 201}}, {'index': {'_index': 'care_index', '_id': 'oZS1iY4B8KzuOcexJFDh', '_version': 1, 'result': 'created', 'forced_refresh': True, '_shards': {'total': 2, 'successful': 2, 'failed': 0}, '_seq_no': 1, '_primary_term': 1, 'status': 201}}, {'index': {'_index': 'care_index', '_id': 'opS1iY4B8KzuOcexJFDh', '_version': 1, 'result': 'created', 'forced_refresh': True, '_shards': {'total': 2, 'successful': 2, 'failed': 0}, '_seq_no': 2, '_primary_term': 1, 'status': 201}}, {'index': {'_index': 'care_index', '_id': 'o5S1iY4B8KzuOcexJFDh', '_version': 1, 'result': 'created', 'forced_refresh': True, '_shards': {'total': 2, 'successful': 2, 'failed': 0}, '_seq_no': 3, '_primary_term': 1, 'status': 201}}, {'index': {'_index': 'care_index', '_id': 'pJS1iY4B8KzuOcexJFDh', '_version': 1, 'result': 'created', 'forced_refresh': True, '_shards': {'total': 2, 'successful': 2, 'failed': 0}, '_seq_no': 4, '_primary_term': 1, 'status': 201}}]})"
      ]
     },
     "execution_count": 74,
     "metadata": {},
     "output_type": "execute_result"
    }
   ],
   "source": [
    "operations = []\n",
    "for drug in care_data:\n",
    "    operations.append({\"index\": {\"_index\": \"care_index\"}})\n",
    "   \n",
    "    # name_vector = model.encode(drug[\"name\"]).tolist()\n",
    "    # short_description_vector = model.encode(drug[\"short_description\"]).tolist()\n",
    "    long_description_vector = model.encode(drug[\"long_description\"]).tolist()\n",
    "    # combined_vector = model.encode(drug[\"combined\"]).tolist()\n",
    "    \n",
    "    # Combining the vectors\n",
    "    # combined_vector = name_vector + short_description_vector + long_description_vector\n",
    "    \n",
    "    # Assigning the combined vector to the document\n",
    "    # drug[\"name_vector\"] = name_vector\n",
    "    # drug[\"short_description_vector\"] = short_description_vector\n",
    "    drug[\"long_description_vector\"] = long_description_vector\n",
    "    # drug[\"combined_vector\"] = combined_vector\n",
    "    \n",
    "    operations.append(drug)\n",
    "client.bulk(index=\"care_index\", operations=operations, refresh=True)"
   ]
  },
  {
   "cell_type": "code",
   "execution_count": 75,
   "metadata": {},
   "outputs": [],
   "source": [
    "def pretty_response(response):\n",
    "    if len(response[\"hits\"][\"hits\"]) == 0:\n",
    "        print(\"Your search returned no results.\")\n",
    "    else:\n",
    "        for hit in response[\"hits\"][\"hits\"]:\n",
    "            print(hit['_score'], end=\" - \")    \n",
    "            print(hit['_source']['name'])"
   ]
  },
  {
   "cell_type": "markdown",
   "metadata": {},
   "source": [
    "#####\n",
    "index: Specifies the index or indices to search within. In this case, it's searching within the \"care_index\" index.\n",
    "\n",
    "knn: This parameter indicates that the search operation will use the KNN search feature.\n",
    "\n",
    "field: Specifies the field in the documents of the index where the KNN search will be performed. Here, it's set to \"long_description_vector\".\n",
    "\n",
    "query_vector: Specifies the vector to search for nearest neighbors. It seems that this vector is generated by encoding the text \"rcc cancer\" using some model (perhaps a word embedding model or some other vectorization technique).\n",
    "\n",
    "k: Specifies the number of nearest neighbors to retrieve. In this case, it's set to 1, meaning it will retrieve the single nearest neighbor.\n",
    "\n",
    "num_candidates: Specifies the number of candidate nearest neighbors to consider during the search. This parameter can help improve search performance by limiting the number of documents considered during the search."
   ]
  },
  {
   "cell_type": "code",
   "execution_count": 81,
   "metadata": {},
   "outputs": [
    {
     "name": "stdout",
     "output_type": "stream",
     "text": [
      "4.0 - IQVIA RCC Cancer Patient Cohort\n"
     ]
    }
   ],
   "source": [
    "# Taking input from the user\n",
    "user_input = input(\"Please enter something: \")\n",
    "\n",
    "response = client.search(\n",
    "    index=\"care_index\",\n",
    "    query= {\n",
    "        \"bool\": {\n",
    "            \"must\": [\n",
    "                {\n",
    "                    \"multi_match\": {\n",
    "                        \"query\": user_input,\n",
    "                        \"fields\": [\"name^3\", \"short_description^2\", \"long_description\"],\n",
    "                        \"fuzziness\": \"AUTO\"\n",
    "                    }\n",
    "                }\n",
    "            ],\n",
    "            \"should\": [\n",
    "                {\"regexp\": {\"name\": f\".*{user_input}.*\"}},\n",
    "                {\"regexp\": {\"short_description\": f\".*{user_input}.*\"}},\n",
    "                {\"regexp\": {\"long_description\": f\".*{user_input}.*\"}}\n",
    "            ],\n",
    "            \"must\": [{\"match\": {'type':'ml models'}}],\n",
    "            \"must\": [{\"match\": {'source':'figma'}}],\n",
    "            \"must\": [{\"match\": {'therapeutic_area':'pan ta'}}],\n",
    "            \"must\": [{\"match\": {'dataset':'source agnostic'}}],\n",
    "            \"must\": [{\"range\": {\"created_date\": {\"gte\": \"2022-10-30\"}}}],\n",
    "        \n",
    "        }\n",
    "    },\n",
    "    # knn={\n",
    "    #     \"field\": \"long_description_vector\",\n",
    "    #     \"query_vector\": model.encode(user_input),\n",
    "    #     \"k\": 10,\n",
    "    #     \"num_candidates\": 100,\n",
    "    # },\n",
    ")\n",
    "\n",
    "\n",
    "pretty_response(response)"
   ]
  },
  {
   "cell_type": "code",
   "execution_count": null,
   "metadata": {},
   "outputs": [],
   "source": []
  }
 ],
 "metadata": {
  "kernelspec": {
   "display_name": "Python 3",
   "language": "python",
   "name": "python3"
  },
  "language_info": {
   "codemirror_mode": {
    "name": "ipython",
    "version": 3
   },
   "file_extension": ".py",
   "mimetype": "text/x-python",
   "name": "python",
   "nbconvert_exporter": "python",
   "pygments_lexer": "ipython3",
   "version": "3.12.2"
  }
 },
 "nbformat": 4,
 "nbformat_minor": 2
}
