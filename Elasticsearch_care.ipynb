{
 "cells": [
  {
   "cell_type": "code",
   "execution_count": 51,
   "metadata": {},
   "outputs": [
    {
     "data": {
      "text/plain": [
       "ObjectApiResponse({'acknowledged': True})"
      ]
     },
     "execution_count": 51,
     "metadata": {},
     "output_type": "execute_result"
    }
   ],
   "source": [
    "# es.indices.delete(index='care')"
   ]
  },
  {
   "cell_type": "code",
   "execution_count": 1,
   "metadata": {},
   "outputs": [
    {
     "data": {
      "text/plain": [
       "{'name': 'a976664ec282',\n",
       " 'cluster_name': 'docker-cluster',\n",
       " 'cluster_uuid': 'ZUf-fEbtSsGvg5jQ7aN4Gw',\n",
       " 'version': {'number': '8.7.0',\n",
       "  'build_flavor': 'default',\n",
       "  'build_type': 'docker',\n",
       "  'build_hash': '09520b59b6bc1057340b55750186466ea715e30e',\n",
       "  'build_date': '2023-03-27T16:31:09.816451435Z',\n",
       "  'build_snapshot': False,\n",
       "  'lucene_version': '9.5.0',\n",
       "  'minimum_wire_compatibility_version': '7.17.0',\n",
       "  'minimum_index_compatibility_version': '7.0.0'},\n",
       " 'tagline': 'You Know, for Search'}"
      ]
     },
     "execution_count": 1,
     "metadata": {},
     "output_type": "execute_result"
    }
   ],
   "source": [
    "import pandas as pd\n",
    "import numpy as np\n",
    "from elasticsearch import Elasticsearch\n",
    "\n",
    "es = Elasticsearch(\"http://localhost:9200\")\n",
    "es.info().body"
   ]
  },
  {
   "cell_type": "code",
   "execution_count": 2,
   "metadata": {},
   "outputs": [],
   "source": [
    "care_data = [\n",
    "    {\n",
    "    'name': 'Wellness / Sick Visit Codes',\n",
    "    'short_description': 'Provides wellness and sick visit codes traditionally.',\n",
    "    'long_description': 'Provides tables of mostly CPT codes related to wellness and sick visits. There are a couple of ICD-10-CM and even a modifier. Each code(s) has a description attached.',\n",
    "    'type': 'Dashboard & Reports',\n",
    "    'source': 'Github',\n",
    "    'therapeutic_area': 'Oncology',\n",
    "    'dataset':'Claims - Optum',\n",
    "    'created_date': '2021-12-18'\n",
    "    },\n",
    "    {\n",
    "    'name': 'Lynparza Ovarian Cancer Market Definition',\n",
    "    'short_description': 'Codes to identify OC patients  and their attributes from claims data.',\n",
    "    'long_description': 'Contains list of diagnosis codes for identifying OC and metastatic patients, CPT Codes for BRCA/HRD Testing.',\n",
    "    'type': 'Tools',\n",
    "    'source': 'Figma',\n",
    "    'therapeutic_area': 'Vaccines',\n",
    "    'dataset':'HCP Data',\n",
    "    'created_date': '2022-01-29'\n",
    "    },\n",
    "    {\n",
    "    'name': 'RCC RWD rulebook',\n",
    "    'short_description': 'Secondary data in RCC',\n",
    "    'long_description': 'Provides needed ICD, CPT, J, NCD code related to RCC in secondary data as well as rules on regimen hierarchy.',\n",
    "    'type': 'Market Definitions',\n",
    "    'source': 'Confluence',\n",
    "    'therapeutic_area': 'Chronic Care',\n",
    "    'dataset':'Claims - IQVIA',\n",
    "    'created_date': '2022-07-02'\n",
    "    },\n",
    "    {\n",
    "    'name': 'cSCC Model',\n",
    "    'short_description': 'Python Package for cSCC Model',\n",
    "    'long_description': 'Provides end users with a financial forecast and reports based on specified inputs.',\n",
    "    'type': 'Tools',\n",
    "    'source': 'Sharepoint',\n",
    "    'therapeutic_area': 'Vaccines',\n",
    "    'dataset':'Account Data',\n",
    "    'created_date': '2022-10-25'\n",
    "    },\n",
    "    {\n",
    "    'name': 'IQVIA RCC Cancer Patient Cohort',\n",
    "    'short_description': 'Get cohort patient for RCC Cancer Primary Tumor.',\n",
    "    'long_description': 'Get cohort patient for RCC Cancer using PTL logic from IQVIA datasource.',\n",
    "    'type': 'ML Models',\n",
    "    'source': 'Figma',\n",
    "    'therapeutic_area': 'PAN TA',\n",
    "    'dataset':'Source Agnostic',\n",
    "    'created_date': '2022-12-22'\n",
    "    }\n",
    "    \n",
    "]\n",
    "for data in care_data: es.index(index='care', document=data)"
   ]
  },
  {
   "cell_type": "markdown",
   "metadata": {},
   "source": [
    "### Single Option Search (type/source/therapeutic_area/dataset)"
   ]
  },
  {
   "cell_type": "code",
   "execution_count": 54,
   "metadata": {},
   "outputs": [
    {
     "name": "stdout",
     "output_type": "stream",
     "text": [
      "1.0341108 - {'name': 'Lynparza Ovarian Cancer Market Definition', 'short_description': 'Codes to identify OC patients  and their attributes from claims data.', 'long_description': 'Contains list of diagnosis codes for identifying OC and metastatic patients, CPT Codes for BRCA/HRD Testing.', 'type': 'Tools', 'source': 'Figma', 'therapeutic_area': 'Vaccines', 'dataset': 'HCP Data', 'created_date': '2022-01-29'}\n",
      "1.0341108 - {'name': 'cSCC Model', 'short_description': 'Python Package for cSCC Model', 'long_description': 'Provides end users with a financial forecast and reports based on specified inputs.', 'type': 'Tools', 'source': 'Sharepoint', 'therapeutic_area': 'Vaccines', 'dataset': 'Account Data', 'created_date': '2022-10-25'}\n"
     ]
    }
   ],
   "source": [
    "api_response = es.search(index=\"care\", query={\"match\": {'type':'Tools'}})\n",
    "for hit in api_response['hits']['hits']:\n",
    "    print(hit['_score'], end=\" - \")\n",
    "    print(hit['_source'])"
   ]
  },
  {
   "cell_type": "code",
   "execution_count": 55,
   "metadata": {},
   "outputs": [
    {
     "name": "stdout",
     "output_type": "stream",
     "text": [
      "1.3862942 - {'name': 'IQVIA RCC Cancer Patient Cohort', 'short_description': 'Get cohort patient for RCC Cancer Primary Tumor.', 'long_description': 'Get cohort patient for RCC Cancer using PTL logic from IQVIA datasource.', 'type': 'ML Models', 'source': 'Figma', 'therapeutic_area': 'PAN TA', 'dataset': 'Source Agnostic', 'created_date': '2022-12-22'}\n"
     ]
    }
   ],
   "source": [
    "api_response = es.search(\n",
    "    index=\"care\", query={\"term\": {\"therapeutic_area.keyword\": \"PAN TA\"}}\n",
    ")\n",
    "for hit in api_response['hits']['hits']:\n",
    "    print(hit['_score'], end=\" - \")\n",
    "    print(hit['_source'])"
   ]
  },
  {
   "cell_type": "code",
   "execution_count": 56,
   "metadata": {},
   "outputs": [
    {
     "name": "stdout",
     "output_type": "stream",
     "text": [
      "1.3862942 - {'name': 'cSCC Model', 'short_description': 'Python Package for cSCC Model', 'long_description': 'Provides end users with a financial forecast and reports based on specified inputs.', 'type': 'Tools', 'source': 'Sharepoint', 'therapeutic_area': 'Vaccines', 'dataset': 'Account Data', 'created_date': '2022-10-25'}\n"
     ]
    }
   ],
   "source": [
    "api_response = es.search(\n",
    "    index=\"care\",\n",
    "    query={\n",
    "        \"bool\": {\n",
    "            \"must\": [\n",
    "                # {\"term\": {\"source.keyword\": \"Sharepoint\"}},\n",
    "                {\"term\": {\"dataset.keyword\": \"Account Data\"}},\n",
    "            ]\n",
    "        }\n",
    "    },\n",
    ")\n",
    "for hit in api_response['hits']['hits']:\n",
    "    print(hit['_score'], end=\" - \")\n",
    "    print(hit['_source'])"
   ]
  },
  {
   "cell_type": "code",
   "execution_count": 57,
   "metadata": {},
   "outputs": [
    {
     "name": "stdout",
     "output_type": "stream",
     "text": [
      "1.1090355 - {'name': 'Wellness / Sick Visit Codes', 'short_description': 'Provides wellness and sick visit codes traditionally.', 'long_description': 'Provides tables of mostly CPT codes related to wellness and sick visits. There are a couple of ICD-10-CM and even a modifier. Each code(s) has a description attached.', 'type': 'Dashboard & Reports', 'source': 'Github', 'therapeutic_area': 'Oncology', 'dataset': 'Claims - Optum', 'created_date': '2021-12-18'}\n"
     ]
    }
   ],
   "source": [
    "api_response = es.search(\n",
    "    index=\"care\", query={\"fuzzy\": {\"dataset\": {\"value\": \"optmu\"}}}\n",
    ")\n",
    "for hit in api_response['hits']['hits']:\n",
    "    print(hit['_score'], end=\" - \")\n",
    "    print(hit['_source'])"
   ]
  },
  {
   "cell_type": "code",
   "execution_count": null,
   "metadata": {},
   "outputs": [],
   "source": []
  },
  {
   "cell_type": "markdown",
   "metadata": {},
   "source": [
    "### Multi Options Queries"
   ]
  },
  {
   "cell_type": "code",
   "execution_count": 58,
   "metadata": {},
   "outputs": [
    {
     "name": "stdout",
     "output_type": "stream",
     "text": [
      "1.6217027 - {'name': 'IQVIA RCC Cancer Patient Cohort', 'short_description': 'Get cohort patient for RCC Cancer Primary Tumor.', 'long_description': 'Get cohort patient for RCC Cancer using PTL logic from IQVIA datasource.', 'type': 'ML Models', 'source': 'Figma', 'therapeutic_area': 'PAN TA', 'dataset': 'Source Agnostic', 'created_date': '2022-12-22'}\n"
     ]
    }
   ],
   "source": [
    "# Taking input from the user\n",
    "user_input = input(\"Please enter something: \")\n",
    "\n",
    "api_response = es.search(\n",
    "    index=\"care\", query= {\"multi_match\": {\"query\": user_input,\"fields\": [\"name\", \"short_description\", \"long_description\"]}}\n",
    ")\n",
    "for hit in api_response['hits']['hits']:\n",
    "    print(hit['_score'], end=\" - \")    \n",
    "    print(hit['_source'])"
   ]
  },
  {
   "cell_type": "code",
   "execution_count": null,
   "metadata": {},
   "outputs": [],
   "source": []
  },
  {
   "cell_type": "code",
   "execution_count": null,
   "metadata": {},
   "outputs": [],
   "source": []
  },
  {
   "cell_type": "markdown",
   "metadata": {},
   "source": [
    "### optimized results"
   ]
  },
  {
   "cell_type": "code",
   "execution_count": 4,
   "metadata": {},
   "outputs": [
    {
     "name": "stderr",
     "output_type": "stream",
     "text": [
      "C:\\Users\\ASUS\\AppData\\Local\\Temp\\ipykernel_1876\\1818658249.py:36: DeprecationWarning: The 'body' parameter is deprecated and will be removed in a future version. Instead use individual parameters.\n",
      "  regex_results = es.search(index='care', body=combined_query)\n"
     ]
    },
    {
     "name": "stdout",
     "output_type": "stream",
     "text": [
      "\n",
      "Regex Query Results:\n",
      "1.0 - IQVIA RCC Cancer Patient Cohort\n"
     ]
    }
   ],
   "source": [
    "# Taking input from the user\n",
    "user_input = input(\"Please enter something: \")\n",
    "\n",
    "# Function to perform multi-word fuzzy and regex queries\n",
    "def perform_queries():\n",
    "    # Regex query\n",
    "    combined_query = {\n",
    "    \"query\": {\n",
    "        \"bool\": {\n",
    "            \"must\": [\n",
    "                {\n",
    "                    \"multi_match\": {\n",
    "                        \"query\": user_input,\n",
    "                        \"fields\": [\"name\", \"short_description\", \"long_description\"],\n",
    "                        \"fuzziness\": \"AUTO\"\n",
    "                    }\n",
    "                }\n",
    "            ],\n",
    "            \"should\": [\n",
    "                {\"regexp\": {\"name\": f\".*{user_input}.*\"}},\n",
    "                {\"regexp\": {\"short_description\": f\".*{user_input}.*\"}},\n",
    "                {\"regexp\": {\"long_description\": f\".*{user_input}.*\"}}\n",
    "            ],\n",
    "            \"must\": [{\"match\": {'type':'ml models'}}],\n",
    "            \"must\": [{\"match\": {'source':'figma'}}],\n",
    "            \"must\": [{\"match\": {'therapeutic_area':'pan ta'}}],\n",
    "            \"must\": [{\"match\": {'dataset':'source agnostic'}}],\n",
    "            \"must\": [{\"range\": {\"created_date\": {\"gte\": \"2022-10-30\"}}}],\n",
    "        \n",
    "        }\n",
    "    }\n",
    "}\n",
    "\n",
    "    # Execute the queries\n",
    "    regex_results = es.search(index='care', body=combined_query)\n",
    "\n",
    "    return regex_results\n",
    "\n",
    "# Perform queries\n",
    "regex_results = perform_queries()\n",
    "\n",
    "# Print query results\n",
    "print(\"\\nRegex Query Results:\")\n",
    "if len(regex_results[\"hits\"][\"hits\"]) == 0:\n",
    "        print(\"Your search returned no results.\")\n",
    "else:\n",
    "    for hit in regex_results['hits']['hits']:\n",
    "        print(hit['_score'], end=\" - \")    \n",
    "        print(hit['_source']['name'])"
   ]
  },
  {
   "cell_type": "code",
   "execution_count": null,
   "metadata": {},
   "outputs": [],
   "source": []
  }
 ],
 "metadata": {
  "kernelspec": {
   "display_name": "Python 3",
   "language": "python",
   "name": "python3"
  },
  "language_info": {
   "codemirror_mode": {
    "name": "ipython",
    "version": 3
   },
   "file_extension": ".py",
   "mimetype": "text/x-python",
   "name": "python",
   "nbconvert_exporter": "python",
   "pygments_lexer": "ipython3",
   "version": "3.12.2"
  }
 },
 "nbformat": 4,
 "nbformat_minor": 2
}
